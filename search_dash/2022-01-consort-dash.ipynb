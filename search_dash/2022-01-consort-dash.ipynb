{
 "cells": [
  {
   "cell_type": "code",
   "execution_count": 1,
   "metadata": {},
   "outputs": [],
   "source": [
    "import dash_bootstrap_components as dbc\n",
    "import jupyter_dash\n",
    "import pandas as pd\n",
    "from dash import Input, Output, dcc, html\n",
    "from dash_extensions import Mermaid"
   ]
  },
  {
   "cell_type": "code",
   "execution_count": 24,
   "metadata": {},
   "outputs": [],
   "source": [
    "consort = \"\"\"\n",
    "flowchart TB\n",
    "    0(Enrollment)\n",
    "    1[\"Assessed for Eligibility (n=287)\"]\n",
    "    p1[ ]\n",
    "    2[\"Randomized (n=201)\"]\n",
    "    3[\"Excluded (n=86) <br> • Not meeting inclusion criteria (n=83) <br> • Declined to participate (n=3) <br> • Other reason (n=0)\"]\n",
    "    p2[ ]\n",
    "    4(Allocation)\n",
    "    5[\"Allocated to intervention (n=101)\"]\n",
    "    6[\"Allocated to control (n=99)\"]\n",
    "    \n",
    "    1 --- p1\n",
    "    p1 --> 2\n",
    "    p1 --> 3\n",
    "    2 --> p2\n",
    "    p2 --> 5\n",
    "    p2 --- 4\n",
    "    p2 --> 6\n",
    "\n",
    "    linkStyle 5 stroke-width:0px\n",
    "    style 3 text-align:left\n",
    "    style p1 width:0px\n",
    "    style p2 width:0px\n",
    "\"\"\""
   ]
  },
  {
   "cell_type": "code",
   "execution_count": 25,
   "metadata": {},
   "outputs": [],
   "source": [
    "app = jupyter_dash.JupyterDash()\n",
    "app.layout = Mermaid(chart=consort, id='consort')"
   ]
  },
  {
   "cell_type": "code",
   "execution_count": 26,
   "metadata": {},
   "outputs": [
    {
     "name": "stderr",
     "output_type": "stream",
     "text": [
      "/home/sbeck/.cache/pypoetry/virtualenvs/search-dash-hBBAgBJG-py3.10/lib/python3.10/site-packages/jupyter_dash/jupyter_app.py:139: UserWarning:\n",
      "\n",
      "The 'environ['werkzeug.server.shutdown']' function is deprecated and will be removed in Werkzeug 2.1.\n",
      "\n"
     ]
    },
    {
     "data": {
      "text/html": [
       "\n",
       "        <iframe\n",
       "            width=\"100%\"\n",
       "            height=\"650\"\n",
       "            src=\"http://127.0.0.1:5001/\"\n",
       "            frameborder=\"0\"\n",
       "            allowfullscreen\n",
       "            \n",
       "        ></iframe>\n",
       "        "
      ],
      "text/plain": [
       "<IPython.lib.display.IFrame at 0x7fd69e0c2f50>"
      ]
     },
     "metadata": {},
     "output_type": "display_data"
    }
   ],
   "source": [
    "app.run_server(mode='inline', port=5001)"
   ]
  },
  {
   "cell_type": "code",
   "execution_count": null,
   "metadata": {},
   "outputs": [],
   "source": [
    "app.run"
   ]
  }
 ],
 "metadata": {
  "interpreter": {
   "hash": "5925de13cd04355e758a07e9a9b6d21f72828e93bfca3a1d3cd463507671b6b6"
  },
  "kernelspec": {
   "display_name": "Python 3.10.1 64-bit ('search-dash-S_dI6MnY-py3.10': poetry)",
   "language": "python",
   "name": "python3"
  },
  "language_info": {
   "codemirror_mode": {
    "name": "ipython",
    "version": 3
   },
   "file_extension": ".py",
   "mimetype": "text/x-python",
   "name": "python",
   "nbconvert_exporter": "python",
   "pygments_lexer": "ipython3",
   "version": "3.10.1"
  },
  "orig_nbformat": 4
 },
 "nbformat": 4,
 "nbformat_minor": 2
}

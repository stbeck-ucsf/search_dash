{
 "cells": [
  {
   "cell_type": "code",
   "execution_count": 1,
   "metadata": {},
   "outputs": [],
   "source": [
    "import dash_bootstrap_components as dbc\n",
    "import jupyter_dash\n",
    "from dash import Input, Output, dcc, html\n",
    "from dash_extensions import Mermaid"
   ]
  },
  {
   "cell_type": "code",
   "execution_count": 2,
   "metadata": {},
   "outputs": [],
   "source": [
    "app = jupyter_dash.JupyterDash(external_stylesheets=[dbc.themes.BOOTSTRAP])"
   ]
  },
  {
   "cell_type": "code",
   "execution_count": 3,
   "metadata": {},
   "outputs": [],
   "source": [
    "# Style arguments.\n",
    "SIDEBAR_STYLE = {\n",
    "    \"position\": \"fixed\",\n",
    "    \"top\": 0,\n",
    "    \"left\": 0,\n",
    "    \"bottom\": 0,\n",
    "    \"width\": \"16rem\",\n",
    "    \"padding\": \"2rem 1rem\",\n",
    "    \"background-color\": \"#f8f9fa\"\n",
    "}\n",
    "\n",
    "# Content position to the right, padding.\n",
    "CONTENT_STYLE = {\n",
    "   \"margin-left\": \"18rem\",\n",
    "   \"margin-right\": \"2rem\",\n",
    "   \"margin-down\": \"18rem\",\n",
    "   \"padding\": \"2rem 1rem\" \n",
    "}\n",
    "\n",
    "# Navbar position to the right, padding.\n",
    "NAVBAR_STYLE = {\n",
    "   \"margin-left\": \"12rem\",\n",
    "   \"margin-right\": \"2rem\"\n",
    "}"
   ]
  },
  {
   "cell_type": "code",
   "execution_count": 4,
   "metadata": {},
   "outputs": [],
   "source": [
    "# Sidebar object.\n",
    "sidebar = html.Div(\n",
    "    [ \n",
    "     html.H2(\"Dashboard\", className=\"display-5\"),\n",
    "     html.Hr(),\n",
    "     html.P(\n",
    "         \"A simple sidebar layout with navigation links\", className=\"lead\"\n",
    "     ),\n",
    "     dbc.Nav(\n",
    "         [ \n",
    "          dbc.NavLink(\"Home\", href=\"/\", active=\"exact\"),\n",
    "          dbc.NavLink(\"Consort\", href=\"/page-1\", active=\"exact\"),\n",
    "          dbc.NavLink(\"Page 2\", href=\"/page-2\", active=\"exact\")],\n",
    "         vertical=True,\n",
    "         pills=True\n",
    "            ),\n",
    "     ],\n",
    "    style=SIDEBAR_STYLE\n",
    ")"
   ]
  },
  {
   "cell_type": "code",
   "execution_count": 5,
   "metadata": {},
   "outputs": [],
   "source": [
    "# Navbar object.\n",
    "navbar = dbc.NavbarSimple(\n",
    "    children=[html.Img(src=\"https://static.wixstatic.com/media/06913a_2a6641f3d15f4c2997954aea3366b05b.png/v1/fill/w_439,h_252,al_c,q_85,usm_0.66_1.00_0.01/06913a_2a6641f3d15f4c2997954aea3366b05b.webp\",\n",
    "                       width='15%',\n",
    "                       height='15%')],\n",
    "    fluid=True,\n",
    "    style=NAVBAR_STYLE\n",
    ")"
   ]
  },
  {
   "cell_type": "code",
   "execution_count": 6,
   "metadata": {},
   "outputs": [],
   "source": [
    "# Content object.\n",
    "content = html.Div(id=\"page-content\", style=CONTENT_STYLE)"
   ]
  },
  {
   "cell_type": "code",
   "execution_count": 7,
   "metadata": {},
   "outputs": [],
   "source": [
    "# Chart object.\n",
    "chart = \"\"\"\n",
    "flowchart TB\n",
    "    0(Enrollment)\n",
    "    1[\"Assessed for Eligibility (n=287)\"]\n",
    "    p1[ ]\n",
    "    2[\"Randomized (n=201)\"]\n",
    "    3[\"Excluded (n=86) <br> • Not meeting inclusion criteria (n=83) <br> • Declined to participate (n=3) <br> • Other reason (n=0)\"]\n",
    "    p2[ ]\n",
    "    4(Allocation)\n",
    "    5[\"Allocated to intervention (n=101)\"]\n",
    "    6[\"Allocated to control (n=99)\"]\n",
    "    \n",
    "    1 --- p1\n",
    "    p1 --> 2\n",
    "    p1 --> 3\n",
    "    2 --> p2\n",
    "    p2 --> 5\n",
    "    p2 --- 4\n",
    "    p2 --> 6\n",
    "\n",
    "    linkStyle 5 stroke-width:0px\n",
    "    style 3 text-align:left\n",
    "    style p1 width:0px\n",
    "    style p2 width:0px\n",
    "\"\"\""
   ]
  },
  {
   "cell_type": "code",
   "execution_count": 8,
   "metadata": {},
   "outputs": [],
   "source": [
    "# App layout.\n",
    "app.layout = html.Div([dcc.Location(id=\"url\"), navbar, sidebar, content])"
   ]
  },
  {
   "cell_type": "code",
   "execution_count": 9,
   "metadata": {},
   "outputs": [],
   "source": [
    "# App callback setup, render page.\n",
    "@app.callback(Output(\"page-content\", \"children\"), [Input(\"url\", \"pathname\")])\n",
    "def render_page_content(pathname):\n",
    "    if pathname == \"/\":\n",
    "        return html.P(\"This is the content of the home page!\")\n",
    "    elif pathname == \"/page-1\":\n",
    "        return html.Div(Mermaid(chart=chart))\n",
    "    elif pathname == \"/page-2\":\n",
    "        return html.P(\"Oh cool, this is page 2!\")\n",
    "    # If the user tries to reach a different page, return a 404 message\n",
    "    return dbc.Jumbotron(\n",
    "        [\n",
    "            html.H1(\"404: Not found\", className=\"text-danger\"),\n",
    "            html.Hr(),\n",
    "            html.P(f\"The pathname {pathname} was not recognised...\"),\n",
    "        ]\n",
    "    )"
   ]
  },
  {
   "cell_type": "code",
   "execution_count": 10,
   "metadata": {},
   "outputs": [
    {
     "data": {
      "text/html": [
       "\n",
       "        <iframe\n",
       "            width=\"100%\"\n",
       "            height=\"650\"\n",
       "            src=\"http://127.0.0.1:8050/\"\n",
       "            frameborder=\"0\"\n",
       "            allowfullscreen\n",
       "            \n",
       "        ></iframe>\n",
       "        "
      ],
      "text/plain": [
       "<IPython.lib.display.IFrame at 0x7f9d417febf0>"
      ]
     },
     "metadata": {},
     "output_type": "display_data"
    }
   ],
   "source": [
    "app.run_server(mode='inline')"
   ]
  },
  {
   "cell_type": "markdown",
   "metadata": {},
   "source": []
  }
 ],
 "metadata": {
  "interpreter": {
   "hash": "7a049237c678e9748f70d631ccf9aec4da0bb05f62f82f81cbd44a8c048188ea"
  },
  "kernelspec": {
   "display_name": "Python 3.10.1 64-bit ('search-dash-hBBAgBJG-py3.10': poetry)",
   "language": "python",
   "name": "python3"
  },
  "language_info": {
   "codemirror_mode": {
    "name": "ipython",
    "version": 3
   },
   "file_extension": ".py",
   "mimetype": "text/x-python",
   "name": "python",
   "nbconvert_exporter": "python",
   "pygments_lexer": "ipython3",
   "version": "3.10.1"
  },
  "orig_nbformat": 4
 },
 "nbformat": 4,
 "nbformat_minor": 2
}
